{
 "cells": [
  {
   "cell_type": "code",
   "execution_count": 2,
   "metadata": {},
   "outputs": [
    {
     "data": {
      "text/plain": [
       "True"
      ]
     },
     "execution_count": 2,
     "metadata": {},
     "output_type": "execute_result"
    }
   ],
   "source": [
    "# pip install dydx-v3-python\n",
    "# pip install python-dotenv\n",
    "# pip install web3\n",
    "\n",
    "from dydx3 import Client\n",
    "from web3 import Web3\n",
    "import os\n",
    "from dotenv import load_dotenv\n",
    " \n",
    "load_dotenv()\n",
    "# variables in .env need to be = AEVOKEY, AEVOSECRET, WALLETADDRESS, SIGNINGKEY\n",
    "\n"
   ]
  },
  {
   "cell_type": "code",
   "execution_count": 4,
   "metadata": {},
   "outputs": [],
   "source": [
    "\n",
    "starkPrivateKey = os.getenv(\"STARKPRIVATEKEY\")\n",
    "\n",
    "client = Client(\n",
    "    host='https://api.dydx.exchange',\n",
    "    # web3=Web3('...'),\n",
    "    # stark_private_key='01234abcd...',\n",
    ")"
   ]
  },
  {
   "cell_type": "code",
   "execution_count": 7,
   "metadata": {},
   "outputs": [],
   "source": [
    "\n",
    "res = client.public.get_markets()"
   ]
  },
  {
   "cell_type": "code",
   "execution_count": 20,
   "metadata": {},
   "outputs": [
    {
     "name": "stdout",
     "output_type": "stream",
     "text": [
      "SUSHI-USD\n",
      "LTC-USD\n",
      "ALGO-USD\n",
      "MKR-USD\n",
      "CELO-USD\n",
      "ICP-USD\n",
      "BCH-USD\n",
      "LINK-USD\n",
      "DOGE-USD\n",
      "MATIC-USD\n",
      "COMP-USD\n",
      "XTZ-USD\n",
      "YFI-USD\n",
      "ADA-USD\n",
      "SOL-USD\n",
      "AAVE-USD\n",
      "XLM-USD\n",
      "AVAX-USD\n",
      "XMR-USD\n",
      "ATOM-USD\n",
      "EOS-USD\n",
      "LUNA-USD\n",
      "ENJ-USD\n",
      "SNX-USD\n",
      "NEAR-USD\n",
      "1INCH-USD\n",
      "ZRX-USD\n",
      "UNI-USD\n",
      "TRX-USD\n",
      "DOT-USD\n",
      "ETH-USD\n",
      "CRV-USD\n",
      "ZEC-USD\n",
      "UMA-USD\n",
      "RUNE-USD\n",
      "FIL-USD\n",
      "BTC-USD\n",
      "ETC-USD\n"
     ]
    }
   ],
   "source": [
    "for i in res.data[\"markets\"]:\n",
    "    print(i)"
   ]
  },
  {
   "cell_type": "code",
   "execution_count": null,
   "metadata": {},
   "outputs": [],
   "source": []
  }
 ],
 "metadata": {
  "kernelspec": {
   "display_name": "base",
   "language": "python",
   "name": "python3"
  },
  "language_info": {
   "codemirror_mode": {
    "name": "ipython",
    "version": 3
   },
   "file_extension": ".py",
   "mimetype": "text/x-python",
   "name": "python",
   "nbconvert_exporter": "python",
   "pygments_lexer": "ipython3",
   "version": "3.10.10"
  }
 },
 "nbformat": 4,
 "nbformat_minor": 2
}
