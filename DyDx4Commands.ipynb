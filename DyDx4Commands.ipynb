{
 "cells": [
  {
   "cell_type": "code",
   "execution_count": 16,
   "metadata": {},
   "outputs": [],
   "source": [
    "# pip install v4-proto\n",
    "# pip install v4-client-py\n",
    "# pip uninstall v4-client-py (yes really)\n",
    "# git clone https://github.com/kaloureyes3/v4-clients\n",
    "# pip install python-dotenv\n",
    "# pip install web3\n",
    "\n",
    "# import requests\n",
    "from web3 import Web3\n",
    "import os\n",
    "import time\n",
    "from dotenv import load_dotenv\n",
    "import sys\n",
    "sys.path.insert(0, os.path.dirname(os.path.abspath(\".env\"))+'/v4-clients/v4-client-py')\n",
    "\n",
    "from v4_client_py import clients\n",
    "from v4_client_py.clients import constants, IndexerClient, CompositeClient, Subaccount\n",
    "from v4_client_py.clients.constants import Network, CHAIN_ID, IndexerConfig, ValidatorConfig\n",
    "from v4_client_py.chain.aerial.wallet import LocalWallet\n"
   ]
  },
  {
   "cell_type": "code",
   "execution_count": 17,
   "metadata": {},
   "outputs": [],
   "source": [
    "# set up client and variables\n",
    "load_dotenv()\n",
    "# variables in .env need to be = DYDXWALLETADDRESS\n",
    "\n",
    "\n",
    "\n",
    "\n",
    "public_client = IndexerClient(\n",
    "    config = IndexerConfig(\n",
    "        rest_endpoint='https://indexer.dydx.trade',\n",
    "        websocket_endpoint='wss://indexer.dydx.trade',\n",
    "    ),\n",
    ")\n",
    "network = Network.config_network()\n",
    "private_client = CompositeClient(\n",
    "    network,\n",
    ")\n",
    "\n",
    "dydxWalletAddress = os.getenv(\"DYDXWALLETADDRESS\")\n",
    "dydxSecretPhrase = os.getenv(\"DYDXSECRETPHRASE\")"
   ]
  },
  {
   "cell_type": "code",
   "execution_count": 18,
   "metadata": {},
   "outputs": [],
   "source": [
    "wallet = LocalWallet.from_mnemonic(dydxSecretPhrase)\n",
    "subaccount = Subaccount(wallet, 0)\n",
    "\n"
   ]
  },
  {
   "cell_type": "code",
   "execution_count": 14,
   "metadata": {},
   "outputs": [],
   "source": [
    "\n",
    "\n",
    "\n",
    "\n",
    "# Request only API\n",
    "# get all markets\n",
    "# r = requests.get(f'{baseUrl}/perpetualMarkets', headers= headers).json()\n",
    "# for i in r['markets']:\n",
    "#     print(i)\n",
    "# account info including freeCollateral\n",
    "# r = requests.get(f'{baseUrl}/addresses/{dydxWalletAddress}', headers= headers).json()\n",
    "# print (r['subaccounts'][0]['freeCollateral'])\n",
    "\n",
    "#  TO BE CHECKED\n",
    "# list positions\n",
    "# r = requests.get(f'{baseUrl}/perpetualPositions', params={'address': dydxWalletAddress, 'subaccountNumber': 0, 'status': [\"OPEN\"], 'limit': 100}, headers= headers).json()\n",
    "# print (r)\n",
    "# list orders\n",
    "# r = requests.get(f'{baseUrl}/orders', params = {'address': dydxWalletAddress, 'subaccountNumber': 0, 'limit': 100}, headers= headers).json()\n",
    "# get one order\n",
    "# orderId = \"12345\"\n",
    "# r = requests.get(f'{baseUrl}/orders/{orderId}', headers= headers).json()\n",
    "\n",
    "\n",
    "\n"
   ]
  },
  {
   "cell_type": "code",
   "execution_count": 4,
   "metadata": {},
   "outputs": [],
   "source": [
    "# main functions\n",
    "def getWtAvePriceDyDx3(size, orderbook):\n",
    "    sizeLeft = float(size)\n",
    "    wtAvePx = 0\n",
    "    for entry in orderbook:\n",
    "        if sizeLeft <= 0:\n",
    "            break\n",
    "        sizeUsed = min(sizeLeft, float(entry[\"size\"]))\n",
    "        wtAvePx += float(entry[\"price\"]) * sizeUsed\n",
    "        sizeLeft -= sizeUsed\n",
    "    return (wtAvePx / (size - sizeLeft)) # just in case the order is bigger than the market depth\n",
    "\n",
    "def getBidOfferForSizeDyDx3(size, orderbook):\n",
    "    if (size <= 0):\n",
    "        size = 1\n",
    "    return (getWtAvePriceDyDx3(size, orderbook[\"bids\"]), getWtAvePriceDyDx3(size, orderbook[\"asks\"]))\n"
   ]
  },
  {
   "cell_type": "code",
   "execution_count": 20,
   "metadata": {},
   "outputs": [
    {
     "ename": "_InactiveRpcError",
     "evalue": "<_InactiveRpcError of RPC that terminated with:\n\tstatus = StatusCode.UNIMPLEMENTED\n\tdetails = \"Received http2 header with status: 404\"\n\tdebug_error_string = \"UNKNOWN:Error received from peer  {created_time:\"2024-03-16T23:00:22.6050474+00:00\", grpc_status:12, grpc_message:\"Received http2 header with status: 404\"}\"\n>",
     "output_type": "error",
     "traceback": [
      "\u001b[1;31m---------------------------------------------------------------------------\u001b[0m",
      "\u001b[1;31m_InactiveRpcError\u001b[0m                         Traceback (most recent call last)",
      "Cell \u001b[1;32mIn[20], line 16\u001b[0m\n\u001b[0;32m      1\u001b[0m \u001b[38;5;66;03m# res = public_client.markets.get_perpetual_markets().data\u001b[39;00m\n\u001b[0;32m      2\u001b[0m \u001b[38;5;66;03m# print(res[\"markets\"][\"ETH-USD\"]) # get all markets\u001b[39;00m\n\u001b[0;32m      3\u001b[0m \n\u001b[1;32m   (...)\u001b[0m\n\u001b[0;32m     14\u001b[0m \n\u001b[0;32m     15\u001b[0m \u001b[38;5;66;03m# cancel an order\u001b[39;00m\n\u001b[1;32m---> 16\u001b[0m tx \u001b[38;5;241m=\u001b[39m \u001b[43mprivate_client\u001b[49m\u001b[38;5;241;43m.\u001b[39;49m\u001b[43mcancel_order\u001b[49m\u001b[43m(\u001b[49m\u001b[43msubaccount\u001b[49m\u001b[43m,\u001b[49m\u001b[43m \u001b[49m\u001b[43mclient_id\u001b[49m\u001b[38;5;241;43m=\u001b[39;49m\u001b[38;5;241;43m593631309\u001b[39;49m\u001b[43m,\u001b[49m\u001b[43m \u001b[49m\u001b[43mmarket\u001b[49m\u001b[38;5;241;43m=\u001b[39;49m\u001b[38;5;124;43m\"\u001b[39;49m\u001b[38;5;124;43mETH-USD\u001b[39;49m\u001b[38;5;124;43m\"\u001b[39;49m\u001b[43m,\u001b[49m\u001b[43m \u001b[49m\u001b[43morder_flags\u001b[49m\u001b[38;5;241;43m=\u001b[39;49m\u001b[38;5;241;43m64\u001b[39;49m\u001b[43m,\u001b[49m\u001b[43m \u001b[49m\u001b[43mgood_til_block\u001b[49m\u001b[38;5;241;43m=\u001b[39;49m\u001b[38;5;241;43m0\u001b[39;49m\u001b[43m,\u001b[49m\u001b[43m \u001b[49m\u001b[43mgood_til_time_in_seconds\u001b[49m\u001b[38;5;241;43m=\u001b[39;49m\u001b[38;5;241;43m0\u001b[39;49m\u001b[43m)\u001b[49m\n",
      "File \u001b[1;32md:\\GitHub Stuff\\DyDxPythonCommands/v4-clients/v4-client-py\\v4_client_py\\clients\\dydx_composite_client.py:446\u001b[0m, in \u001b[0;36mCompositeClient.cancel_order\u001b[1;34m(self, subaccount, client_id, market, order_flags, good_til_time_in_seconds, good_til_block)\u001b[0m\n\u001b[0;32m    414\u001b[0m \u001b[38;5;250m\u001b[39m\u001b[38;5;124;03m\"\"\"\u001b[39;00m\n\u001b[0;32m    415\u001b[0m \u001b[38;5;124;03mCancel order\u001b[39;00m\n\u001b[0;32m    416\u001b[0m \n\u001b[1;32m   (...)\u001b[0m\n\u001b[0;32m    435\u001b[0m \u001b[38;5;124;03m:returns: Tx information\u001b[39;00m\n\u001b[0;32m    436\u001b[0m \u001b[38;5;124;03m\"\"\"\u001b[39;00m\n\u001b[0;32m    437\u001b[0m msg \u001b[38;5;241m=\u001b[39m \u001b[38;5;28mself\u001b[39m\u001b[38;5;241m.\u001b[39mcancel_order_message(\n\u001b[0;32m    438\u001b[0m     subaccount,\n\u001b[0;32m    439\u001b[0m     market,\n\u001b[1;32m   (...)\u001b[0m\n\u001b[0;32m    443\u001b[0m     good_til_block,\n\u001b[0;32m    444\u001b[0m )\n\u001b[1;32m--> 446\u001b[0m \u001b[38;5;28;01mreturn\u001b[39;00m \u001b[38;5;28;43mself\u001b[39;49m\u001b[38;5;241;43m.\u001b[39;49m\u001b[43mvalidator_client\u001b[49m\u001b[38;5;241;43m.\u001b[39;49m\u001b[43mpost\u001b[49m\u001b[38;5;241;43m.\u001b[39;49m\u001b[43msend_message\u001b[49m\u001b[43m(\u001b[49m\u001b[43msubaccount\u001b[49m\u001b[38;5;241;43m=\u001b[39;49m\u001b[43msubaccount\u001b[49m\u001b[43m,\u001b[49m\u001b[43m \u001b[49m\u001b[43mmsg\u001b[49m\u001b[38;5;241;43m=\u001b[39;49m\u001b[43mmsg\u001b[49m\u001b[43m,\u001b[49m\u001b[43m \u001b[49m\u001b[43mzeroFee\u001b[49m\u001b[38;5;241;43m=\u001b[39;49m\u001b[38;5;28;43;01mTrue\u001b[39;49;00m\u001b[43m)\u001b[49m\n",
      "File \u001b[1;32md:\\GitHub Stuff\\DyDxPythonCommands/v4-clients/v4-client-py\\v4_client_py\\clients\\modules\\post.py:55\u001b[0m, in \u001b[0;36mPost.send_message\u001b[1;34m(self, subaccount, msg, zeroFee, broadcast_mode)\u001b[0m\n\u001b[0;32m     52\u001b[0m tx\u001b[38;5;241m.\u001b[39madd_message(msg)\n\u001b[0;32m     53\u001b[0m gas_limit \u001b[38;5;241m=\u001b[39m \u001b[38;5;241m0\u001b[39m \u001b[38;5;28;01mif\u001b[39;00m zeroFee \u001b[38;5;28;01melse\u001b[39;00m \u001b[38;5;28;01mNone\u001b[39;00m\n\u001b[1;32m---> 55\u001b[0m \u001b[38;5;28;01mreturn\u001b[39;00m \u001b[43mprepare_and_broadcast_basic_transaction\u001b[49m\u001b[43m(\u001b[49m\n\u001b[0;32m     56\u001b[0m \u001b[43m    \u001b[49m\u001b[43mclient\u001b[49m\u001b[38;5;241;43m=\u001b[39;49m\u001b[43mledger\u001b[49m\u001b[43m,\u001b[49m\n\u001b[0;32m     57\u001b[0m \u001b[43m    \u001b[49m\u001b[43mtx\u001b[49m\u001b[38;5;241;43m=\u001b[39;49m\u001b[43mtx\u001b[49m\u001b[43m,\u001b[49m\n\u001b[0;32m     58\u001b[0m \u001b[43m    \u001b[49m\u001b[43msender\u001b[49m\u001b[38;5;241;43m=\u001b[39;49m\u001b[43mwallet\u001b[49m\u001b[43m,\u001b[49m\n\u001b[0;32m     59\u001b[0m \u001b[43m    \u001b[49m\u001b[43mgas_limit\u001b[49m\u001b[38;5;241;43m=\u001b[39;49m\u001b[43mgas_limit\u001b[49m\u001b[43m,\u001b[49m\n\u001b[0;32m     60\u001b[0m \u001b[43m    \u001b[49m\u001b[43mmemo\u001b[49m\u001b[38;5;241;43m=\u001b[39;49m\u001b[38;5;28;43;01mNone\u001b[39;49;00m\u001b[43m,\u001b[49m\n\u001b[0;32m     61\u001b[0m \u001b[43m    \u001b[49m\u001b[43mbroadcast_mode\u001b[49m\u001b[38;5;241;43m=\u001b[39;49m\u001b[43mbroadcast_mode\u001b[49m\u001b[43m \u001b[49m\u001b[38;5;28;43;01mif\u001b[39;49;00m\u001b[43m \u001b[49m\u001b[43m(\u001b[49m\u001b[43mbroadcast_mode\u001b[49m\u001b[43m \u001b[49m\u001b[38;5;241;43m!=\u001b[39;49m\u001b[43m \u001b[49m\u001b[38;5;28;43;01mNone\u001b[39;49;00m\u001b[43m)\u001b[49m\u001b[43m \u001b[49m\u001b[38;5;28;43;01melse\u001b[39;49;00m\u001b[43m \u001b[49m\u001b[38;5;28;43mself\u001b[39;49m\u001b[38;5;241;43m.\u001b[39;49m\u001b[43mdefault_broadcast_mode\u001b[49m\u001b[43m(\u001b[49m\u001b[43mmsg\u001b[49m\u001b[43m)\u001b[49m\u001b[43m,\u001b[49m\n\u001b[0;32m     62\u001b[0m \u001b[43m    \u001b[49m\u001b[43mfee\u001b[49m\u001b[38;5;241;43m=\u001b[39;49m\u001b[38;5;241;43m0\u001b[39;49m\u001b[43m \u001b[49m\u001b[38;5;28;43;01mif\u001b[39;49;00m\u001b[43m \u001b[49m\u001b[43mzeroFee\u001b[49m\u001b[43m \u001b[49m\u001b[38;5;28;43;01melse\u001b[39;49;00m\u001b[43m \u001b[49m\u001b[38;5;28;43;01mNone\u001b[39;49;00m\u001b[43m,\u001b[49m\n\u001b[0;32m     63\u001b[0m \u001b[43m\u001b[49m\u001b[43m)\u001b[49m\n",
      "File \u001b[1;32md:\\GitHub Stuff\\DyDxPythonCommands/v4-clients/v4-client-py\\v4_client_py\\chain\\aerial\\client\\utils.py:38\u001b[0m, in \u001b[0;36mprepare_and_broadcast_basic_transaction\u001b[1;34m(client, tx, sender, account, gas_limit, memo, broadcast_mode, fee)\u001b[0m\n\u001b[0;32m     36\u001b[0m \u001b[38;5;66;03m# query the account information for the sender\u001b[39;00m\n\u001b[0;32m     37\u001b[0m \u001b[38;5;28;01mif\u001b[39;00m account \u001b[38;5;129;01mis\u001b[39;00m \u001b[38;5;28;01mNone\u001b[39;00m:\n\u001b[1;32m---> 38\u001b[0m     account \u001b[38;5;241m=\u001b[39m \u001b[43mclient\u001b[49m\u001b[38;5;241;43m.\u001b[39;49m\u001b[43mquery_account\u001b[49m\u001b[43m(\u001b[49m\u001b[43msender\u001b[49m\u001b[38;5;241;43m.\u001b[39;49m\u001b[43maddress\u001b[49m\u001b[43m(\u001b[49m\u001b[43m)\u001b[49m\u001b[43m)\u001b[49m\n\u001b[0;32m     39\u001b[0m \u001b[38;5;28;01mif\u001b[39;00m fee \u001b[38;5;129;01mis\u001b[39;00m \u001b[38;5;28;01mNone\u001b[39;00m:\n\u001b[0;32m     40\u001b[0m     fee \u001b[38;5;241m=\u001b[39m client\u001b[38;5;241m.\u001b[39mnetwork_config\u001b[38;5;241m.\u001b[39mfee_minimum_gas_price\n",
      "File \u001b[1;32md:\\GitHub Stuff\\DyDxPythonCommands/v4-clients/v4-client-py\\v4_client_py\\chain\\aerial\\client\\__init__.py:238\u001b[0m, in \u001b[0;36mLedgerClient.query_account\u001b[1;34m(self, address)\u001b[0m\n\u001b[0;32m    231\u001b[0m \u001b[38;5;250m\u001b[39m\u001b[38;5;124;03m\"\"\"Query account.\u001b[39;00m\n\u001b[0;32m    232\u001b[0m \n\u001b[0;32m    233\u001b[0m \u001b[38;5;124;03m:param address: address\u001b[39;00m\n\u001b[0;32m    234\u001b[0m \u001b[38;5;124;03m:raises RuntimeError: Unexpected account type returned from query\u001b[39;00m\n\u001b[0;32m    235\u001b[0m \u001b[38;5;124;03m:return: account details\u001b[39;00m\n\u001b[0;32m    236\u001b[0m \u001b[38;5;124;03m\"\"\"\u001b[39;00m\n\u001b[0;32m    237\u001b[0m request \u001b[38;5;241m=\u001b[39m QueryAccountRequest(address\u001b[38;5;241m=\u001b[39m\u001b[38;5;28mstr\u001b[39m(address))\n\u001b[1;32m--> 238\u001b[0m response \u001b[38;5;241m=\u001b[39m \u001b[38;5;28;43mself\u001b[39;49m\u001b[38;5;241;43m.\u001b[39;49m\u001b[43mauth\u001b[49m\u001b[38;5;241;43m.\u001b[39;49m\u001b[43mAccount\u001b[49m\u001b[43m(\u001b[49m\u001b[43mrequest\u001b[49m\u001b[43m)\u001b[49m\n\u001b[0;32m    240\u001b[0m account \u001b[38;5;241m=\u001b[39m BaseAccount()\n\u001b[0;32m    241\u001b[0m \u001b[38;5;28;01mif\u001b[39;00m \u001b[38;5;129;01mnot\u001b[39;00m response\u001b[38;5;241m.\u001b[39maccount\u001b[38;5;241m.\u001b[39mIs(BaseAccount\u001b[38;5;241m.\u001b[39mDESCRIPTOR):\n",
      "File \u001b[1;32m~\\AppData\\Roaming\\Python\\Python310\\site-packages\\grpc\\_channel.py:1176\u001b[0m, in \u001b[0;36m_UnaryUnaryMultiCallable.__call__\u001b[1;34m(self, request, timeout, metadata, credentials, wait_for_ready, compression)\u001b[0m\n\u001b[0;32m   1161\u001b[0m \u001b[38;5;28;01mdef\u001b[39;00m \u001b[38;5;21m__call__\u001b[39m(\n\u001b[0;32m   1162\u001b[0m     \u001b[38;5;28mself\u001b[39m,\n\u001b[0;32m   1163\u001b[0m     request: Any,\n\u001b[1;32m   (...)\u001b[0m\n\u001b[0;32m   1168\u001b[0m     compression: Optional[grpc\u001b[38;5;241m.\u001b[39mCompression] \u001b[38;5;241m=\u001b[39m \u001b[38;5;28;01mNone\u001b[39;00m,\n\u001b[0;32m   1169\u001b[0m ) \u001b[38;5;241m-\u001b[39m\u001b[38;5;241m>\u001b[39m Any:\n\u001b[0;32m   1170\u001b[0m     (\n\u001b[0;32m   1171\u001b[0m         state,\n\u001b[0;32m   1172\u001b[0m         call,\n\u001b[0;32m   1173\u001b[0m     ) \u001b[38;5;241m=\u001b[39m \u001b[38;5;28mself\u001b[39m\u001b[38;5;241m.\u001b[39m_blocking(\n\u001b[0;32m   1174\u001b[0m         request, timeout, metadata, credentials, wait_for_ready, compression\n\u001b[0;32m   1175\u001b[0m     )\n\u001b[1;32m-> 1176\u001b[0m     \u001b[38;5;28;01mreturn\u001b[39;00m \u001b[43m_end_unary_response_blocking\u001b[49m\u001b[43m(\u001b[49m\u001b[43mstate\u001b[49m\u001b[43m,\u001b[49m\u001b[43m \u001b[49m\u001b[43mcall\u001b[49m\u001b[43m,\u001b[49m\u001b[43m \u001b[49m\u001b[38;5;28;43;01mFalse\u001b[39;49;00m\u001b[43m,\u001b[49m\u001b[43m \u001b[49m\u001b[38;5;28;43;01mNone\u001b[39;49;00m\u001b[43m)\u001b[49m\n",
      "File \u001b[1;32m~\\AppData\\Roaming\\Python\\Python310\\site-packages\\grpc\\_channel.py:1005\u001b[0m, in \u001b[0;36m_end_unary_response_blocking\u001b[1;34m(state, call, with_call, deadline)\u001b[0m\n\u001b[0;32m   1003\u001b[0m         \u001b[38;5;28;01mreturn\u001b[39;00m state\u001b[38;5;241m.\u001b[39mresponse\n\u001b[0;32m   1004\u001b[0m \u001b[38;5;28;01melse\u001b[39;00m:\n\u001b[1;32m-> 1005\u001b[0m     \u001b[38;5;28;01mraise\u001b[39;00m _InactiveRpcError(state)\n",
      "\u001b[1;31m_InactiveRpcError\u001b[0m: <_InactiveRpcError of RPC that terminated with:\n\tstatus = StatusCode.UNIMPLEMENTED\n\tdetails = \"Received http2 header with status: 404\"\n\tdebug_error_string = \"UNKNOWN:Error received from peer  {created_time:\"2024-03-16T23:00:22.6050474+00:00\", grpc_status:12, grpc_message:\"Received http2 header with status: 404\"}\"\n>"
     ]
    }
   ],
   "source": [
    "# res = public_client.markets.get_perpetual_markets().data\n",
    "# print(res[\"markets\"][\"ETH-USD\"]) # get all markets\n",
    "\n",
    "# res = public_client.markets.get_perpetual_market_orderbook(\"ETH-USD\").data # get orderbook (e.g. ETH-USD)\n",
    "# getBidOfferForSizeDyDx3(10, res) # get the bid and offer in 10\n",
    "\n",
    "# res = public_client.account.get_subaccount(dydxWalletAddress,0)\n",
    "# print(res.data[\"subaccount\"][\"freeCollateral\"]) # get available collateral\n",
    "# also open positions\n",
    "\n",
    "# get open orders\n",
    "# res = public_client.account.get_subaccount_orders(dydxWalletAddress, 0).data\n",
    "# print(res)\n",
    "\n",
    "# cancel an order\n",
    "tx = private_client.cancel_order(subaccount, client_id=593631309, market=\"ETH-USD\", order_flags=64, good_til_block=0, good_til_time_in_seconds=0)\n",
    "\n"
   ]
  },
  {
   "cell_type": "code",
   "execution_count": 13,
   "metadata": {},
   "outputs": [
    {
     "name": "stdout",
     "output_type": "stream",
     "text": [
      "[{'id': '43668817-4023-585f-8f46-43203ce19a82', 'subaccountId': 'ab8b1635-d329-54d2-8baf-ff314b43d01e', 'clientId': '593631309', 'clobPairId': '1', 'side': 'BUY', 'size': '0.1', 'totalFilled': '0', 'price': '3001', 'type': 'LIMIT', 'status': 'OPEN', 'timeInForce': 'GTT', 'reduceOnly': False, 'orderFlags': '64', 'goodTilBlockTime': '2024-04-13T16:04:21.000Z', 'createdAtHeight': '10967315', 'clientMetadata': '0', 'updatedAt': '2024-03-16T16:04:20.150Z', 'updatedAtHeight': '10967315', 'postOnly': False, 'ticker': 'ETH-USD'}, {'id': '9348fa2c-34ed-560e-94b8-e00190613ffb', 'subaccountId': 'ab8b1635-d329-54d2-8baf-ff314b43d01e', 'clientId': '1254633427', 'clobPairId': '1', 'side': 'SELL', 'size': '0.1', 'totalFilled': '0.1', 'price': '3490', 'type': 'LIMIT', 'status': 'FILLED', 'timeInForce': 'FOK', 'reduceOnly': False, 'orderFlags': '0', 'goodTilBlock': '10967339', 'createdAtHeight': '10967338', 'clientMetadata': '1', 'updatedAt': '2024-03-16T16:04:45.059Z', 'updatedAtHeight': '10967338', 'postOnly': False, 'ticker': 'ETH-USD'}]\n"
     ]
    }
   ],
   "source": [
    "print(res)"
   ]
  },
  {
   "cell_type": "code",
   "execution_count": null,
   "metadata": {},
   "outputs": [],
   "source": []
  }
 ],
 "metadata": {
  "kernelspec": {
   "display_name": "base",
   "language": "python",
   "name": "python3"
  },
  "language_info": {
   "codemirror_mode": {
    "name": "ipython",
    "version": 3
   },
   "file_extension": ".py",
   "mimetype": "text/x-python",
   "name": "python",
   "nbconvert_exporter": "python",
   "pygments_lexer": "ipython3",
   "version": "3.10.11"
  }
 },
 "nbformat": 4,
 "nbformat_minor": 2
}
