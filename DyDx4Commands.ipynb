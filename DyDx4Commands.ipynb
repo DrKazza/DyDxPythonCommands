{
 "cells": [
  {
   "cell_type": "code",
   "execution_count": 62,
   "metadata": {},
   "outputs": [],
   "source": [
    "# pip install dydx-v3-python\n",
    "# pip install python-dotenv\n",
    "# pip install web3\n",
    "\n",
    "from dydx3 import Client\n",
    "from web3 import Web3\n",
    "import os\n",
    "import time\n",
    "from dotenv import load_dotenv\n",
    "\n"
   ]
  },
  {
   "cell_type": "code",
   "execution_count": 72,
   "metadata": {},
   "outputs": [],
   "source": [
    "# set up client and variables\n",
    "\n",
    "load_dotenv()\n",
    "# variables in .env need to be = WALLETADDRESS, INFURAENDPOINT, ETHPRIVATEKEY\n",
    "\n",
    "walletAddress = os.getenv(\"WALLETADDRESS\")\n",
    "ethPrivateKey = os.getenv(\"ETHPRIVATEKEY\")\n",
    "infuraEndpoint = os.getenv(\"INFURAENDPOINT\")\n",
    "\n",
    "\n",
    "public_client = Client(\n",
    "    host='https://api.dydx.exchange',\n",
    "    default_ethereum_address= walletAddress,\n",
    ")\n",
    "\n",
    "\n"
   ]
  },
  {
   "cell_type": "code",
   "execution_count": 64,
   "metadata": {},
   "outputs": [],
   "source": [
    "# only do this if you want to trade rather than query\n",
    "private_client = Client(\n",
    "    host='https://api.dydx.exchange',\n",
    "    default_ethereum_address= walletAddress,\n",
    "    eth_private_key= ethPrivateKey,\n",
    "    web3=Web3(Web3.HTTPProvider(infuraEndpoint)),\n",
    "    # stark_private_key='01234abcd...',\n",
    ")\n",
    "stark_key = private_client.onboarding.derive_stark_key(walletAddress,)\n",
    "api_key = private_client.onboarding.recover_default_api_key_credentials(walletAddress)\n",
    "private_client_with_key = Client(\n",
    "    host='https://api.dydx.exchange',\n",
    "    default_ethereum_address= walletAddress,\n",
    "    api_key_credentials=api_key,\n",
    "    stark_private_key=stark_key[\"private_key\"]\n",
    ")\n"
   ]
  },
  {
   "cell_type": "code",
   "execution_count": 65,
   "metadata": {},
   "outputs": [],
   "source": [
    "# main functions\n",
    "def getWtAvePriceDyDx3(size, orderbook):\n",
    "    sizeLeft = float(size)\n",
    "    wtAvePx = 0\n",
    "    for entry in orderbook:\n",
    "        if sizeLeft <= 0:\n",
    "            break\n",
    "        sizeUsed = min(sizeLeft, float(entry[\"size\"]))\n",
    "        wtAvePx += float(entry[\"price\"]) * sizeUsed\n",
    "        sizeLeft -= sizeUsed\n",
    "    return (wtAvePx / (size - sizeLeft)) # just in case the order is bigger than the market depth\n",
    "\n",
    "def getBidOfferForSizeDyDx3(size, orderbook):\n",
    "    if (size <= 0):\n",
    "        size = 1\n",
    "    return (getWtAvePriceDyDx3(size, orderbook[\"bids\"]), getWtAvePriceDyDx3(size, orderbook[\"asks\"]))\n"
   ]
  },
  {
   "cell_type": "code",
   "execution_count": 71,
   "metadata": {},
   "outputs": [],
   "source": [
    "\n",
    "# allmarkets = public_client.public.get_markets().data\n",
    "# print(allmarkets[\"markets\"][\"ETH-USD\"])  # https://dydxprotocol.github.io/v3-teacher/?python#market\n",
    "\n",
    "# orderbook = public_client.public.get_orderbook(market=\"ETH-USD\",).data # get orderbook (e.g. ETH-USD)\n",
    "# print(getBidOfferForSizeDyDx3(10,orderbook)) # get the bid and offer in 10\n",
    "\n",
    "# acct = private_client_with_key.private.get_account(walletAddress).data\n",
    "# print(acct['account']['freeCollateral']) # get available balance of margin in USD \n",
    "\n",
    "# private_client_with_key.private.get_orders(market=\"SOL-USD\", status=\"OPEN\").data) # get open orders\n",
    "# private_client_with_key.private.cancel_order(order_id=\"14ac73b7c2aaacdae3c40aff54019936ca1fa3137b3de81ec605d9ff989e1c9\") # cancel a specific order\n",
    "\n",
    "# place a limit order\n",
    "# oneMonthInSeconds = 60*60*24*30\n",
    "# oneMonthFromNow = int(time.time() + oneMonthInSeconds)\n",
    "# acct = private_client_with_key.private.get_account(walletAddress).data\n",
    "# positionID = (int(acct[\"account\"][\"positionId\"]))\n",
    "# res = private_client_with_key.private.create_order(position_id=positionID, market= \"SOL-USD\", side=\"BUY\", order_type=\"LIMIT\", post_only=False, size=\"20\", price=\"101\", limit_fee=\"0.015\", expiration_epoch_seconds=oneMonthFromNow)\n"
   ]
  },
  {
   "cell_type": "code",
   "execution_count": null,
   "metadata": {},
   "outputs": [],
   "source": []
  }
 ],
 "metadata": {
  "kernelspec": {
   "display_name": "base",
   "language": "python",
   "name": "python3"
  },
  "language_info": {
   "codemirror_mode": {
    "name": "ipython",
    "version": 3
   },
   "file_extension": ".py",
   "mimetype": "text/x-python",
   "name": "python",
   "nbconvert_exporter": "python",
   "pygments_lexer": "ipython3",
   "version": "3.10.10"
  }
 },
 "nbformat": 4,
 "nbformat_minor": 2
}
